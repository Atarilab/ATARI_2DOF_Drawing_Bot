{
 "cells": [
  {
   "cell_type": "code",
   "execution_count": 1,
   "metadata": {},
   "outputs": [
    {
     "name": "stderr",
     "output_type": "stream",
     "text": [
      "2025-01-27 13:28:30.542656: I tensorflow/core/platform/cpu_feature_guard.cc:210] This TensorFlow binary is optimized to use available CPU instructions in performance-critical operations.\n",
      "To enable the following instructions: AVX2 FMA, in other operations, rebuild TensorFlow with the appropriate compiler flags.\n"
     ]
    }
   ],
   "source": [
    "from drawing_bot_api.trajectory_optimizer.simulator import Simulator, ExponentialDecaySimulator\n",
    "from drawing_bot_api.trajectory_optimizer.shape_generator import ShapeGenerator\n",
    "from drawing_bot_api.commands import DrawingBot\n",
    "import numpy as np\n",
    "import matplotlib.pyplot as plt\n",
    "from drawing_bot_api.trajectory_optimizer.image_processor import ImageProcessor\n",
    "from drawing_bot_api.trajectory_optimizer.utils import Scheduler\n",
    "from IPython.display import clear_output\n",
    "import signal\n",
    "\n",
    "DEBUG_MODE = True\n",
    "\n",
    "%matplotlib agg\n",
    "\n",
    "np.set_printoptions(threshold=np.inf)"
   ]
  },
  {
   "cell_type": "code",
   "execution_count": 2,
   "metadata": {},
   "outputs": [],
   "source": [
    "class bcolors:\n",
    "    HEADER = '\\033[95m'\n",
    "    OKBLUE = '\\033[94m'\n",
    "    OKCYAN = '\\033[96m'\n",
    "    OKGREEN = '\\033[92m'\n",
    "    WARNING = '\\033[93m'\n",
    "    FAIL = '\\033[91m'\n",
    "    ENDC = '\\033[0m'\n",
    "    BOLD = '\\033[1m'\n",
    "    UNDERLINE = '\\033[4m'"
   ]
  },
  {
   "cell_type": "code",
   "execution_count": 3,
   "metadata": {},
   "outputs": [
    {
     "name": "stdout",
     "output_type": "stream",
     "text": [
      "Unit set to \"mm\".\n"
     ]
    }
   ],
   "source": [
    "drawing_bot = DrawingBot()\n",
    "simulator = Simulator()\n",
    "compensator = ExponentialDecaySimulator()\n",
    "shape_generator = ShapeGenerator()\n",
    "image_processor = ImageProcessor()"
   ]
  },
  {
   "cell_type": "code",
   "execution_count": 4,
   "metadata": {},
   "outputs": [],
   "source": [
    "def plot_graph(data, labels, scale='linear'):\n",
    "    plt.yscale(scale)\n",
    "    for _i in range(len(data)):\n",
    "        plt.plot(data[_i], label=labels[_i])\n",
    "    plt.legend(bbox_to_anchor=(1, 1.15), ncol=3)  \n",
    "    plt.show() "
   ]
  },
  {
   "cell_type": "code",
   "execution_count": 5,
   "metadata": {},
   "outputs": [],
   "source": [
    "def get_trajectory():\n",
    "    for shape in shape_generator():\n",
    "        drawing_bot.add_shape(shape)\n",
    "    trajectory = np.array(drawing_bot._get_all_points())\n",
    "    template = drawing_bot.plot(training_mode=True, points=trajectory)\n",
    "    drawing_bot.shapes.clear()\n",
    "    return trajectory, template"
   ]
  },
  {
   "cell_type": "code",
   "execution_count": 6,
   "metadata": {},
   "outputs": [],
   "source": [
    "def get_parameters(reference_parameters):\n",
    "    pass"
   ]
  },
  {
   "cell_type": "code",
   "execution_count": 7,
   "metadata": {},
   "outputs": [],
   "source": [
    "def test_parameters(parameters, trajectory, template):\n",
    "    compensated_trajectory = compensator(trajectory, gain=parameters[0], damping=parameters[1], freq=parameters[2], non_linearity=parameters[3])\n",
    "    simulated_trajectory = simulator(compensated_trajectory)\n",
    "    drawing = drawing_bot.plot(training_mode=True, points=simulated_trajectory)\n",
    "    reward = image_processor(template, drawing, save_images=False)\n",
    "    return reward, drawing"
   ]
  },
  {
   "cell_type": "code",
   "execution_count": 8,
   "metadata": {},
   "outputs": [],
   "source": [
    "KEEP_SETS = 3\n",
    "NEW_BRANCHES_PER_GEN = 3\n",
    "GENERATION_SIZE = 30\n",
    "GENERATIONS = 3000\n",
    "\n",
    "SIGMA_BASE_INIT = 1.5\n",
    "SIGMA_DECAY_INIT = 0.98\n",
    "\n",
    "SIGMA_SWITCH_GENERATIION = 1\n",
    "SIGMA_BASE_SWITCH = 0.1\n",
    "SIGMA_DECAY_SWITCH = 1\n",
    "\n",
    "FIXED_GAIN = 1"
   ]
  },
  {
   "cell_type": "code",
   "execution_count": null,
   "metadata": {},
   "outputs": [
    {
     "name": "stdout",
     "output_type": "stream",
     "text": [
      "\u001b[96mgeneration: 0\u001b[0m\tbest_set: [0.054785   0.00219261 0.91890423 0.20885074]\t\t\u001b[92mreward: 0.7428673155453671 / 0.7615683498354524\u001b[0m\tsigma: 1.5\n",
      "\u001b[96mgeneration: 1\u001b[0m\tbest_set: [-0.55716408  0.14819159  3.51163467  3.18343269]\t\t\u001b[92mreward: 0.7601919841496427 / 0.7615683498354524\u001b[0m\tsigma: 0.1\n",
      "\u001b[96mgeneration: 2\u001b[0m\tbest_set: [-0.81706579  0.06794193  3.51181131  3.25944129]\t\t\u001b[92mreward: 0.7715439640037225 / 0.7615683498354524\u001b[0m\tsigma: 0.1\n",
      "\u001b[96mgeneration: 3\u001b[0m\tbest_set: [-0.76115493  0.03387117  3.4330657   3.27002736]\t\t\u001b[92mreward: 0.7902293674138359 / 0.7615683498354524\u001b[0m\tsigma: 0.1\n",
      "\u001b[96mgeneration: 4\u001b[0m\tbest_set: [-0.86794139  0.02109025  3.54689823  3.10611659]\t\t\u001b[92mreward: 0.7935754591348629 / 0.7615683498354524\u001b[0m\tsigma: 0.1\n",
      "\u001b[96mgeneration: 5\u001b[0m\tbest_set: [-0.86794139  0.02109025  3.54689823  3.10611659]\t\t\u001b[92mreward: 0.7935754591348629 / 0.7615683498354524\u001b[0m\tsigma: 0.1\n",
      "\u001b[96mgeneration: 6\u001b[0m\tbest_set: [-0.86794139  0.02109025  3.54689823  3.10611659]\t\t\u001b[92mreward: 0.7935754591348629 / 0.7615683498354524\u001b[0m\tsigma: 0.1\n",
      "\u001b[96mgeneration: 7\u001b[0m\tbest_set: [-0.86794139  0.02109025  3.54689823  3.10611659]\t\t\u001b[92mreward: 0.7935754591348629 / 0.7615683498354524\u001b[0m\tsigma: 0.1\n",
      "\u001b[96mgeneration: 8\u001b[0m\tbest_set: [-0.86794139  0.02109025  3.54689823  3.10611659]\t\t\u001b[92mreward: 0.7935754591348629 / 0.7615683498354524\u001b[0m\tsigma: 0.1\n",
      "\u001b[96mgeneration: 9\u001b[0m\tbest_set: [-0.86794139  0.02109025  3.54689823  3.10611659]\t\t\u001b[92mreward: 0.7935754591348629 / 0.7615683498354524\u001b[0m\tsigma: 0.1\n",
      "\u001b[96mgeneration: 10\u001b[0m\tbest_set: [-0.86794139  0.02109025  3.54689823  3.10611659]\t\t\u001b[92mreward: 0.7935754591348629 / 0.7615683498354524\u001b[0m\tsigma: 0.1\n",
      "\u001b[96mgeneration: 11\u001b[0m\tbest_set: [-0.86794139  0.02109025  3.54689823  3.10611659]\t\t\u001b[92mreward: 0.7935754591348629 / 0.7615683498354524\u001b[0m\tsigma: 0.1\n",
      "\u001b[96mgeneration: 12\u001b[0m\tbest_set: [-0.86794139  0.02109025  3.54689823  3.10611659]\t\t\u001b[92mreward: 0.7935754591348629 / 0.7615683498354524\u001b[0m\tsigma: 0.1\n",
      "\u001b[96mgeneration: 13\u001b[0m\tbest_set: [-0.86794139  0.02109025  3.54689823  3.10611659]\t\t\u001b[92mreward: 0.7935754591348629 / 0.7615683498354524\u001b[0m\tsigma: 0.1\n",
      "\u001b[96mgeneration: 14\u001b[0m\tbest_set: [-0.86794139  0.02109025  3.54689823  3.10611659]\t\t\u001b[92mreward: 0.7935754591348629 / 0.7615683498354524\u001b[0m\tsigma: 0.1\n",
      "\u001b[96mgeneration: 15\u001b[0m\tbest_set: [-0.86794139  0.02109025  3.54689823  3.10611659]\t\t\u001b[92mreward: 0.7935754591348629 / 0.7615683498354524\u001b[0m\tsigma: 0.1\n",
      "\u001b[96mgeneration: 16\u001b[0m\tbest_set: [-0.86794139  0.02109025  3.54689823  3.10611659]\t\t\u001b[92mreward: 0.7935754591348629 / 0.7615683498354524\u001b[0m\tsigma: 0.1\n",
      "\u001b[96mgeneration: 17\u001b[0m\tbest_set: [-0.86794139  0.02109025  3.54689823  3.10611659]\t\t\u001b[92mreward: 0.7935754591348629 / 0.7615683498354524\u001b[0m\tsigma: 0.1\n",
      "\u001b[96mgeneration: 18\u001b[0m\tbest_set: [-0.86794139  0.02109025  3.54689823  3.10611659]\t\t\u001b[92mreward: 0.7935754591348629 / 0.7615683498354524\u001b[0m\tsigma: 0.1\n",
      "\u001b[96mgeneration: 19\u001b[0m\tbest_set: [-0.86794139  0.02109025  3.54689823  3.10611659]\t\t\u001b[92mreward: 0.7935754591348629 / 0.7615683498354524\u001b[0m\tsigma: 0.1\n",
      "\u001b[96mgeneration: 20\u001b[0m\tbest_set: [-0.86794139  0.02109025  3.54689823  3.10611659]\t\t\u001b[92mreward: 0.7935754591348629 / 0.7615683498354524\u001b[0m\tsigma: 0.1\n",
      "\u001b[96mgeneration: 21\u001b[0m\tbest_set: [-0.68096115  0.02446512  3.54197495  3.25996273]\t\t\u001b[92mreward: 0.7954825194873996 / 0.7615683498354524\u001b[0m\tsigma: 0.1\n",
      "\u001b[96mgeneration: 22\u001b[0m\tbest_set: [-0.68096115  0.02446512  3.54197495  3.25996273]\t\t\u001b[92mreward: 0.7954825194873996 / 0.7615683498354524\u001b[0m\tsigma: 0.1\n",
      "\u001b[96mgeneration: 23\u001b[0m\tbest_set: [-0.68096115  0.02446512  3.54197495  3.25996273]\t\t\u001b[92mreward: 0.7954825194873996 / 0.7615683498354524\u001b[0m\tsigma: 0.1\n",
      "\u001b[96mgeneration: 24\u001b[0m\tbest_set: [-0.68096115  0.02446512  3.54197495  3.25996273]\t\t\u001b[92mreward: 0.7954825194873996 / 0.7615683498354524\u001b[0m\tsigma: 0.1\n",
      "\u001b[96mgeneration: 25\u001b[0m\tbest_set: [-0.68096115  0.02446512  3.54197495  3.25996273]\t\t\u001b[92mreward: 0.7954825194873996 / 0.7615683498354524\u001b[0m\tsigma: 0.1\n",
      "\u001b[96mgeneration: 26\u001b[0m\tbest_set: [-0.68096115  0.02446512  3.54197495  3.25996273]\t\t\u001b[92mreward: 0.7954825194873996 / 0.7615683498354524\u001b[0m\tsigma: 0.1\n",
      "\u001b[96mgeneration: 27\u001b[0m\tbest_set: [-0.68096115  0.02446512  3.54197495  3.25996273]\t\t\u001b[92mreward: 0.7954825194873996 / 0.7615683498354524\u001b[0m\tsigma: 0.1\n",
      "\u001b[96mgeneration: 28\u001b[0m\tbest_set: [-0.68096115  0.02446512  3.54197495  3.25996273]\t\t\u001b[92mreward: 0.7954825194873996 / 0.7615683498354524\u001b[0m\tsigma: 0.1\n",
      "\u001b[96mgeneration: 29\u001b[0m\tbest_set: [-0.68096115  0.02446512  3.54197495  3.25996273]\t\t\u001b[92mreward: 0.7954825194873996 / 0.7615683498354524\u001b[0m\tsigma: 0.1\n",
      "\u001b[96mgeneration: 30\u001b[0m\tbest_set: [-0.68096115  0.02446512  3.54197495  3.25996273]\t\t\u001b[92mreward: 0.7954825194873996 / 0.7615683498354524\u001b[0m\tsigma: 0.1\n",
      "\u001b[96mgeneration: 31\u001b[0m\tbest_set: [-0.68096115  0.02446512  3.54197495  3.25996273]\t\t\u001b[92mreward: 0.7954825194873996 / 0.7615683498354524\u001b[0m\tsigma: 0.1\n",
      "\u001b[96mgeneration: 32\u001b[0m\tbest_set: [-0.68096115  0.02446512  3.54197495  3.25996273]\t\t\u001b[92mreward: 0.7954825194873996 / 0.7615683498354524\u001b[0m\tsigma: 0.1\n",
      "\u001b[96mgeneration: 33\u001b[0m\tbest_set: [-0.68096115  0.02446512  3.54197495  3.25996273]\t\t\u001b[92mreward: 0.7954825194873996 / 0.7615683498354524\u001b[0m\tsigma: 0.1\n",
      "\u001b[96mgeneration: 34\u001b[0m\tbest_set: [-0.68096115  0.02446512  3.54197495  3.25996273]\t\t\u001b[92mreward: 0.7954825194873996 / 0.7615683498354524\u001b[0m\tsigma: 0.1\n",
      "\u001b[96mgeneration: 35\u001b[0m\tbest_set: [-0.68096115  0.02446512  3.54197495  3.25996273]\t\t\u001b[92mreward: 0.7954825194873996 / 0.7615683498354524\u001b[0m\tsigma: 0.1\n",
      "\u001b[96mgeneration: 36\u001b[0m\tbest_set: [-0.68096115  0.02446512  3.54197495  3.25996273]\t\t\u001b[92mreward: 0.7954825194873996 / 0.7615683498354524\u001b[0m\tsigma: 0.1\n",
      "\u001b[96mgeneration: 37\u001b[0m\tbest_set: [-0.68096115  0.02446512  3.54197495  3.25996273]\t\t\u001b[92mreward: 0.7954825194873996 / 0.7615683498354524\u001b[0m\tsigma: 0.1\n",
      "\u001b[96mgeneration: 38\u001b[0m\tbest_set: [-0.68096115  0.02446512  3.54197495  3.25996273]\t\t\u001b[92mreward: 0.7954825194873996 / 0.7615683498354524\u001b[0m\tsigma: 0.1\n",
      "\u001b[96mgeneration: 39\u001b[0m\tbest_set: [-0.68096115  0.02446512  3.54197495  3.25996273]\t\t\u001b[92mreward: 0.7954825194873996 / 0.7615683498354524\u001b[0m\tsigma: 0.1\n",
      "\u001b[96mgeneration: 40\u001b[0m\tbest_set: [-0.68096115  0.02446512  3.54197495  3.25996273]\t\t\u001b[92mreward: 0.7954825194873996 / 0.7615683498354524\u001b[0m\tsigma: 0.1\n",
      "\u001b[96mgeneration: 41\u001b[0m\tbest_set: [-0.68096115  0.02446512  3.54197495  3.25996273]\t\t\u001b[92mreward: 0.7954825194873996 / 0.7615683498354524\u001b[0m\tsigma: 0.1\n",
      "\u001b[96mgeneration: 42\u001b[0m\tbest_set: [-0.68096115  0.02446512  3.54197495  3.25996273]\t\t\u001b[92mreward: 0.7954825194873996 / 0.7615683498354524\u001b[0m\tsigma: 0.1\n",
      "\u001b[96mgeneration: 43\u001b[0m\tbest_set: [-0.68096115  0.02446512  3.54197495  3.25996273]\t\t\u001b[92mreward: 0.7954825194873996 / 0.7615683498354524\u001b[0m\tsigma: 0.1\n",
      "\u001b[96mgeneration: 44\u001b[0m\tbest_set: [-0.68096115  0.02446512  3.54197495  3.25996273]\t\t\u001b[92mreward: 0.7954825194873996 / 0.7615683498354524\u001b[0m\tsigma: 0.1\n",
      "\u001b[96mgeneration: 45\u001b[0m\tbest_set: [-0.65109366  0.02143386  3.5504475   3.24665037]\t\t\u001b[92mreward: 0.7964575017294613 / 0.7615683498354524\u001b[0m\tsigma: 0.1\n",
      "\u001b[96mgeneration: 46\u001b[0m\tbest_set: [-0.65109366  0.02143386  3.5504475   3.24665037]\t\t\u001b[92mreward: 0.7964575017294613 / 0.7615683498354524\u001b[0m\tsigma: 0.1\n",
      "\u001b[96mgeneration: 47\u001b[0m\tbest_set: [-0.65109366  0.02143386  3.5504475   3.24665037]\t\t\u001b[92mreward: 0.7964575017294613 / 0.7615683498354524\u001b[0m\tsigma: 0.1\n",
      "\u001b[96mgeneration: 48\u001b[0m\tbest_set: [-0.65109366  0.02143386  3.5504475   3.24665037]\t\t\u001b[92mreward: 0.7964575017294613 / 0.7615683498354524\u001b[0m\tsigma: 0.1\n",
      "\u001b[96mgeneration: 49\u001b[0m\tbest_set: [-0.66503025  0.02109116  3.54980499  3.15611966]\t\t\u001b[92mreward: 0.7967803094444819 / 0.7615683498354524\u001b[0m\tsigma: 0.1\n"
     ]
    }
   ],
   "source": [
    "best_set = None\n",
    "parameters = np.random.random((GENERATION_SIZE, 4))\n",
    "sigma_schedule = Scheduler(SIGMA_BASE_INIT, SIGMA_DECAY_INIT)\n",
    "reward_history = []\n",
    "trajectory, template = get_trajectory()\n",
    "\n",
    "simulated_template = simulator(trajectory)\n",
    "uncompensated_drawing = drawing_bot.plot(training_mode=True, points=simulated_template)\n",
    "template_reward = image_processor(template, uncompensated_drawing, save_images=False)\n",
    "\n",
    "for generation_index in range(GENERATIONS):\n",
    "    signal.alarm(5)\n",
    "\n",
    "    try:\n",
    "        sigma = sigma_schedule()\n",
    "\n",
    "        if generation_index % SIGMA_SWITCH_GENERATIION == SIGMA_SWITCH_GENERATIION-1:\n",
    "            sigma_schedule = Scheduler(SIGMA_BASE_SWITCH, SIGMA_DECAY_SWITCH)\n",
    "\n",
    "        rewards = []\n",
    "        drawings = []\n",
    "        for set in parameters:\n",
    "            reward, drawing = test_parameters(set, trajectory, template)\n",
    "            rewards.append(reward)\n",
    "            drawings.append(drawing)\n",
    "\n",
    "        reward_history.append(max(rewards))\n",
    "        \n",
    "        # Get indices of the three best sets\n",
    "        rewards = np.nan_to_num(rewards, nan=-np.inf)\n",
    "        best_indices = np.argsort(rewards)[-KEEP_SETS:]\n",
    "        best_sets = [parameters[i] for i in best_indices]\n",
    "        best_set = parameters[np.argmax(rewards)]\n",
    "\n",
    "        print(f'{bcolors.OKCYAN}generation: {generation_index}{bcolors.ENDC}\\tbest_set: {best_set}\\t{bcolors.OKGREEN}reward: {max(rewards)} / {template_reward}{bcolors.ENDC}\\tsigma: {sigma}')\n",
    "        \n",
    "        parameters = np.random.random((GENERATION_SIZE, 4))\n",
    "        parameters[0] = best_set\n",
    "        for i in range(1, GENERATION_SIZE-NEW_BRANCHES_PER_GEN):\n",
    "            parameters[i] = best_sets[i % KEEP_SETS]\n",
    "            parameters[i] += np.random.normal(0, sigma, 4)\n",
    "\n",
    "        if generation_index % 10 == 9:\n",
    "            image_processor.save_image(drawings[np.argmax(rewards)], 'evolutionary', 'generation', nr=generation_index)\n",
    "\n",
    "        plt.close('all')\n",
    "    except Exception as e:\n",
    "        if DEBUG_MODE:\n",
    "            raise\n",
    "        else:\n",
    "            print(f\"Timeout occurred: {e}\")\n",
    "\n",
    "    finally:\n",
    "        pass\n",
    "        signal.alarm(0)  # Cancel the alarm\n",
    "\n",
    "%matplotlib inline\n",
    "\n",
    "print(f'BEST SET: {best_set}')\n",
    "plot_graph([reward_history], ['reward'], scale='linear')\n",
    "\n",
    "compensated_trajectory = compensator(trajectory, gain=best_set[0], damping=best_set[1], freq=best_set[2], non_linearity=best_set[3])\n",
    "simulated_trajectory = simulator(compensated_trajectory)\n",
    "simulated_template = simulator(trajectory)\n",
    "drawing = drawing_bot.plot(training_mode=True, points=simulated_trajectory, plot_in_training=True)\n",
    "uncompensated_drawing = drawing_bot.plot(training_mode=True, points=simulated_template, plot_in_training=True)\n"
   ]
  }
 ],
 "metadata": {
  "kernelspec": {
   "display_name": "venv",
   "language": "python",
   "name": "python3"
  },
  "language_info": {
   "codemirror_mode": {
    "name": "ipython",
    "version": 3
   },
   "file_extension": ".py",
   "mimetype": "text/x-python",
   "name": "python",
   "nbconvert_exporter": "python",
   "pygments_lexer": "ipython3",
   "version": "3.11.11"
  }
 },
 "nbformat": 4,
 "nbformat_minor": 2
}
