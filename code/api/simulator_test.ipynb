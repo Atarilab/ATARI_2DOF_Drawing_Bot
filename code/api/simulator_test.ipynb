{
 "cells": [
  {
   "cell_type": "code",
   "execution_count": 1,
   "metadata": {},
   "outputs": [
    {
     "name": "stderr",
     "output_type": "stream",
     "text": [
      "2025-01-27 23:22:17.855171: I tensorflow/core/platform/cpu_feature_guard.cc:210] This TensorFlow binary is optimized to use available CPU instructions in performance-critical operations.\n",
      "To enable the following instructions: AVX2 FMA, in other operations, rebuild TensorFlow with the appropriate compiler flags.\n"
     ]
    }
   ],
   "source": [
    "from drawing_bot_api.trajectory_optimizer.simulator import Simulator, ExponentialDecaySimulator\n",
    "from drawing_bot_api.trajectory_optimizer.shape_generator import ShapeGenerator\n",
    "from drawing_bot_api.commands import DrawingBot\n",
    "import numpy as np\n",
    "import matplotlib.pyplot as plt\n",
    "from drawing_bot_api.trajectory_optimizer.image_processor import ImageProcessor\n",
    "from drawing_bot_api.trajectory_optimizer.utils import Scheduler\n",
    "from IPython.display import clear_output\n",
    "import signal\n",
    "\n",
    "DEBUG_MODE = True\n",
    "\n",
    "%matplotlib agg\n",
    "\n",
    "np.set_printoptions(threshold=np.inf)"
   ]
  },
  {
   "cell_type": "code",
   "execution_count": 2,
   "metadata": {},
   "outputs": [],
   "source": [
    "class bcolors:\n",
    "    HEADER = '\\033[95m'\n",
    "    OKBLUE = '\\033[94m'\n",
    "    OKCYAN = '\\033[96m'\n",
    "    OKGREEN = '\\033[92m'\n",
    "    WARNING = '\\033[93m'\n",
    "    FAIL = '\\033[91m'\n",
    "    ENDC = '\\033[0m'\n",
    "    BOLD = '\\033[1m'\n",
    "    UNDERLINE = '\\033[4m'"
   ]
  },
  {
   "cell_type": "code",
   "execution_count": 3,
   "metadata": {},
   "outputs": [
    {
     "name": "stdout",
     "output_type": "stream",
     "text": [
      "Unit set to \"mm\".\n"
     ]
    }
   ],
   "source": [
    "drawing_bot = DrawingBot()\n",
    "simulator = Simulator()\n",
    "compensator = ExponentialDecaySimulator()\n",
    "shape_generator = ShapeGenerator()\n",
    "image_processor = ImageProcessor()"
   ]
  },
  {
   "cell_type": "code",
   "execution_count": 4,
   "metadata": {},
   "outputs": [],
   "source": [
    "def plot_graph(data, labels, scale='linear'):\n",
    "    plt.yscale(scale)\n",
    "    for _i in range(len(data)):\n",
    "        plt.plot(data[_i], label=labels[_i])\n",
    "    plt.legend(bbox_to_anchor=(1, 1.15), ncol=3)  \n",
    "    plt.show() "
   ]
  },
  {
   "cell_type": "code",
   "execution_count": 5,
   "metadata": {},
   "outputs": [],
   "source": [
    "def get_trajectory():\n",
    "    for shape in shape_generator(seed=1):\n",
    "        drawing_bot.add_shape(shape)\n",
    "    trajectory = np.array(drawing_bot._get_all_points())\n",
    "    template = drawing_bot.plot(training_mode=True, points=trajectory)\n",
    "    drawing_bot.shapes.clear()\n",
    "    return trajectory, template"
   ]
  },
  {
   "cell_type": "code",
   "execution_count": 6,
   "metadata": {},
   "outputs": [],
   "source": [
    "def get_parameters(reference_parameters):\n",
    "    pass"
   ]
  },
  {
   "cell_type": "code",
   "execution_count": 7,
   "metadata": {},
   "outputs": [],
   "source": [
    "def test_parameters(parameters, trajectory, template):\n",
    "    compensated_trajectory, _ = compensator(trajectory, type='fourier', parameters=parameters) #, tanh_scaling=[4])\n",
    "    simulated_trajectory = simulator(compensated_trajectory)\n",
    "    drawing = drawing_bot.plot(training_mode=True, points=simulated_trajectory)\n",
    "    reward = image_processor(template, drawing, save_images=False)\n",
    "    return reward, drawing"
   ]
  },
  {
   "cell_type": "code",
   "execution_count": 8,
   "metadata": {},
   "outputs": [],
   "source": [
    "KEEP_SETS = 3\n",
    "NEW_BRANCHES_PER_GEN = 1\n",
    "GENERATION_SIZE = 8\n",
    "NUM_OF_PARAMETERS = 8\n",
    "GENERATIONS = 200\n",
    "\n",
    "SIGMA_BASE_INIT = 1.5\n",
    "SIGMA_DECAY_INIT = 0.98\n",
    "\n",
    "SIGMA_SWITCH_GENERATIION = 1\n",
    "SIGMA_BASE_SWITCH = 0.15\n",
    "SIGMA_DECAY_SWITCH = 1\n",
    "\n",
    "FIXED_GAIN = 1"
   ]
  },
  {
   "cell_type": "code",
   "execution_count": 9,
   "metadata": {},
   "outputs": [
    {
     "ename": "IndexError",
     "evalue": "index 409 is out of bounds for axis 0 with size 409",
     "output_type": "error",
     "traceback": [
      "\u001b[0;31m---------------------------------------------------------------------------\u001b[0m",
      "\u001b[0;31mIndexError\u001b[0m                                Traceback (most recent call last)",
      "Cell \u001b[0;32mIn[9], line 23\u001b[0m\n\u001b[1;32m     21\u001b[0m drawings \u001b[38;5;241m=\u001b[39m []\n\u001b[1;32m     22\u001b[0m \u001b[38;5;28;01mfor\u001b[39;00m \u001b[38;5;28mset\u001b[39m \u001b[38;5;129;01min\u001b[39;00m parameters:\n\u001b[0;32m---> 23\u001b[0m     reward, drawing \u001b[38;5;241m=\u001b[39m \u001b[43mtest_parameters\u001b[49m\u001b[43m(\u001b[49m\u001b[38;5;28;43mset\u001b[39;49m\u001b[43m,\u001b[49m\u001b[43m \u001b[49m\u001b[43mtrajectory\u001b[49m\u001b[43m,\u001b[49m\u001b[43m \u001b[49m\u001b[43mtemplate\u001b[49m\u001b[43m)\u001b[49m\n\u001b[1;32m     24\u001b[0m     rewards\u001b[38;5;241m.\u001b[39mappend(reward)\n\u001b[1;32m     25\u001b[0m     drawings\u001b[38;5;241m.\u001b[39mappend(drawing)\n",
      "Cell \u001b[0;32mIn[7], line 2\u001b[0m, in \u001b[0;36mtest_parameters\u001b[0;34m(parameters, trajectory, template)\u001b[0m\n\u001b[1;32m      1\u001b[0m \u001b[38;5;28;01mdef\u001b[39;00m \u001b[38;5;21mtest_parameters\u001b[39m(parameters, trajectory, template):\n\u001b[0;32m----> 2\u001b[0m     compensated_trajectory, _ \u001b[38;5;241m=\u001b[39m \u001b[43mcompensator\u001b[49m\u001b[43m(\u001b[49m\u001b[43mtrajectory\u001b[49m\u001b[43m,\u001b[49m\u001b[43m \u001b[49m\u001b[38;5;28;43mtype\u001b[39;49m\u001b[38;5;241;43m=\u001b[39;49m\u001b[38;5;124;43m'\u001b[39;49m\u001b[38;5;124;43mfourier\u001b[39;49m\u001b[38;5;124;43m'\u001b[39;49m\u001b[43m,\u001b[49m\u001b[43m \u001b[49m\u001b[43mparameters\u001b[49m\u001b[38;5;241;43m=\u001b[39;49m\u001b[43mparameters\u001b[49m\u001b[43m)\u001b[49m \u001b[38;5;66;03m#, tanh_scaling=[4])\u001b[39;00m\n\u001b[1;32m      3\u001b[0m     simulated_trajectory \u001b[38;5;241m=\u001b[39m simulator(compensated_trajectory)\n\u001b[1;32m      4\u001b[0m     drawing \u001b[38;5;241m=\u001b[39m drawing_bot\u001b[38;5;241m.\u001b[39mplot(training_mode\u001b[38;5;241m=\u001b[39m\u001b[38;5;28;01mTrue\u001b[39;00m, points\u001b[38;5;241m=\u001b[39msimulated_trajectory)\n",
      "File \u001b[0;32m~/Documents/Dateien/Privat/Projekte/Bachelorarbeit/Project/MIRMI_2DOF_Drawing_Bot/code/api/drawing_bot_api/trajectory_optimizer/simulator.py:74\u001b[0m, in \u001b[0;36mExponentialDecaySimulator.__call__\u001b[0;34m(self, points, type, **kwargs)\u001b[0m\n\u001b[1;32m     72\u001b[0m _points \u001b[38;5;241m=\u001b[39m \u001b[38;5;28;01mNone\u001b[39;00m\n\u001b[1;32m     73\u001b[0m \u001b[38;5;28;01mif\u001b[39;00m \u001b[38;5;28mtype\u001b[39m \u001b[38;5;241m==\u001b[39m \u001b[38;5;124m'\u001b[39m\u001b[38;5;124mfourier\u001b[39m\u001b[38;5;124m'\u001b[39m:\n\u001b[0;32m---> 74\u001b[0m     _points, _data \u001b[38;5;241m=\u001b[39m \u001b[38;5;28;43mself\u001b[39;49m\u001b[38;5;241;43m.\u001b[39;49m\u001b[43mapply_compensation_fourier\u001b[49m\u001b[43m(\u001b[49m\u001b[43mpoints\u001b[49m\u001b[43m,\u001b[49m\u001b[43m \u001b[49m\u001b[38;5;241;43m*\u001b[39;49m\u001b[38;5;241;43m*\u001b[39;49m\u001b[43mkwargs\u001b[49m\u001b[43m)\u001b[49m\n\u001b[1;32m     75\u001b[0m \u001b[38;5;28;01melse\u001b[39;00m:\n\u001b[1;32m     76\u001b[0m     _points, _data \u001b[38;5;241m=\u001b[39m \u001b[38;5;28mself\u001b[39m\u001b[38;5;241m.\u001b[39mapply_compensation(points, \u001b[38;5;241m*\u001b[39m\u001b[38;5;241m*\u001b[39mkwargs)\n",
      "File \u001b[0;32m~/Documents/Dateien/Privat/Projekte/Bachelorarbeit/Project/MIRMI_2DOF_Drawing_Bot/code/api/drawing_bot_api/trajectory_optimizer/simulator.py:153\u001b[0m, in \u001b[0;36mExponentialDecaySimulator.apply_compensation_fourier\u001b[0;34m(self, points, parameters, length)\u001b[0m\n\u001b[1;32m    151\u001b[0m     _points_left \u001b[38;5;241m=\u001b[39m \u001b[38;5;28mlen\u001b[39m(_point_offsets) \u001b[38;5;241m-\u001b[39m _index\n\u001b[1;32m    152\u001b[0m     _range \u001b[38;5;241m=\u001b[39m length \u001b[38;5;28;01mif\u001b[39;00m _points_left \u001b[38;5;241m>\u001b[39m\u001b[38;5;241m=\u001b[39m length \u001b[38;5;28;01melse\u001b[39;00m _points_left\n\u001b[0;32m--> 153\u001b[0m     _point_offsets[_index:_index\u001b[38;5;241m+\u001b[39mlength] \u001b[38;5;241m=\u001b[39m _point_offsets[_index:_index\u001b[38;5;241m+\u001b[39mlength] \u001b[38;5;241m+\u001b[39m (_exponential_fourier_series[:_range] \u001b[38;5;241m*\u001b[39m \u001b[43m_weighted_normalized_phase_differences\u001b[49m\u001b[43m[\u001b[49m\u001b[43m_index\u001b[49m\u001b[43m]\u001b[49m)\n\u001b[1;32m    155\u001b[0m _point_offsets \u001b[38;5;241m=\u001b[39m np\u001b[38;5;241m.\u001b[39mappend(\u001b[38;5;241m0\u001b[39m, _point_offsets)\n\u001b[1;32m    156\u001b[0m _point_offsets \u001b[38;5;241m=\u001b[39m _point_offsets\u001b[38;5;241m.\u001b[39mreshape(\u001b[38;5;241m-\u001b[39m\u001b[38;5;241m1\u001b[39m, \u001b[38;5;241m1\u001b[39m)\n",
      "\u001b[0;31mIndexError\u001b[0m: index 409 is out of bounds for axis 0 with size 409"
     ]
    }
   ],
   "source": [
    "best_set = None\n",
    "parameters = np.random.random((GENERATION_SIZE, NUM_OF_PARAMETERS))\n",
    "sigma_schedule = Scheduler(SIGMA_BASE_INIT, SIGMA_DECAY_INIT)\n",
    "reward_history = []\n",
    "trajectory, template = get_trajectory()\n",
    "\n",
    "simulated_template = simulator(trajectory)\n",
    "uncompensated_drawing = drawing_bot.plot(training_mode=True, points=simulated_template)\n",
    "template_reward = image_processor(template, uncompensated_drawing, save_images=False)\n",
    "\n",
    "for generation_index in range(GENERATIONS):\n",
    "    signal.alarm(5)\n",
    "\n",
    "    try:\n",
    "        sigma = sigma_schedule()\n",
    "\n",
    "        if generation_index % SIGMA_SWITCH_GENERATIION == SIGMA_SWITCH_GENERATIION-1:\n",
    "            sigma_schedule = Scheduler(SIGMA_BASE_SWITCH, SIGMA_DECAY_SWITCH)\n",
    "\n",
    "        rewards = []\n",
    "        drawings = []\n",
    "        for set in parameters:\n",
    "            reward, drawing = test_parameters(set, trajectory, template)\n",
    "            rewards.append(reward)\n",
    "            drawings.append(drawing)\n",
    "\n",
    "        reward_history.append(max(rewards))\n",
    "        \n",
    "        # Get indices of the three best sets\n",
    "        rewards = np.nan_to_num(rewards, nan=-np.inf)\n",
    "        best_indices = np.argsort(rewards)[-KEEP_SETS:]\n",
    "        best_sets = [parameters[i] for i in best_indices]\n",
    "        best_set = parameters[np.argmax(rewards)]\n",
    "\n",
    "        print(f'{bcolors.OKCYAN}generation: {generation_index}{bcolors.ENDC}\\tbest_set: {best_set}\\t{bcolors.OKGREEN}reward: {max(rewards)} / {template_reward}{bcolors.ENDC}\\tsigma: {sigma}')\n",
    "        \n",
    "        parameters = np.random.random((GENERATION_SIZE, NUM_OF_PARAMETERS))\n",
    "        parameters[0] = best_set\n",
    "        for i in range(1, GENERATION_SIZE-NEW_BRANCHES_PER_GEN):\n",
    "            parameters[i] = best_sets[i % KEEP_SETS]\n",
    "            parameters[i] += np.random.normal(0, sigma, NUM_OF_PARAMETERS)\n",
    "\n",
    "        if generation_index % 10 == 9:\n",
    "            image_processor.save_image(drawings[np.argmax(rewards)], 'evolutionary', 'generation', nr=generation_index)\n",
    "\n",
    "        plt.close('all')\n",
    "    except Exception as e:\n",
    "        if DEBUG_MODE:\n",
    "            raise\n",
    "        else:\n",
    "            print(f\"Timeout occurred: {e}\")\n",
    "\n",
    "    finally:\n",
    "        pass\n",
    "        signal.alarm(0)  # Cancel the alarm\n",
    "\n",
    "%matplotlib inline\n",
    "\n",
    "print(f'BEST SET: {best_set}')\n",
    "plot_graph([reward_history], ['reward'], scale='linear')\n",
    "\n",
    "compensated_trajectory, point_offsets = compensator(trajectory, type='fourier', parameters=best_set)#, tanh_scaling=[4])\n",
    "simulated_trajectory = simulator(compensated_trajectory)\n",
    "simulated_template = simulator(trajectory)\n",
    "drawing = drawing_bot.plot(training_mode=True, points=simulated_trajectory, plot_in_training=True)\n",
    "uncompensated_drawing = drawing_bot.plot(training_mode=True, points=simulated_template, plot_in_training=True)\n",
    "plot_graph([point_offsets], ['point offset'], scale='symlog')"
   ]
  }
 ],
 "metadata": {
  "kernelspec": {
   "display_name": "venv",
   "language": "python",
   "name": "python3"
  },
  "language_info": {
   "codemirror_mode": {
    "name": "ipython",
    "version": 3
   },
   "file_extension": ".py",
   "mimetype": "text/x-python",
   "name": "python",
   "nbconvert_exporter": "python",
   "pygments_lexer": "ipython3",
   "version": "3.11.11"
  }
 },
 "nbformat": 4,
 "nbformat_minor": 2
}
