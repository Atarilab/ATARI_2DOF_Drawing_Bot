{
 "cells": [
  {
   "cell_type": "code",
   "execution_count": 1,
   "metadata": {},
   "outputs": [
    {
     "name": "stderr",
     "output_type": "stream",
     "text": [
      "2025-01-27 08:57:16.526247: I tensorflow/core/platform/cpu_feature_guard.cc:210] This TensorFlow binary is optimized to use available CPU instructions in performance-critical operations.\n",
      "To enable the following instructions: AVX2 FMA, in other operations, rebuild TensorFlow with the appropriate compiler flags.\n"
     ]
    }
   ],
   "source": [
    "from drawing_bot_api.trajectory_optimizer.simulator import Simulator, ExponentialDecaySimulator\n",
    "from drawing_bot_api.trajectory_optimizer.shape_generator import ShapeGenerator\n",
    "from drawing_bot_api.commands import DrawingBot\n",
    "import numpy as np\n",
    "import matplotlib.pyplot as plt\n",
    "from drawing_bot_api.trajectory_optimizer.image_processor import ImageProcessor\n",
    "from drawing_bot_api.trajectory_optimizer.utils import Scheduler\n",
    "from IPython.display import clear_output\n",
    "import signal\n",
    "\n",
    "DEBUG_MODE = True\n",
    "\n",
    "%matplotlib agg\n",
    "\n",
    "np.set_printoptions(threshold=np.inf)"
   ]
  },
  {
   "cell_type": "code",
   "execution_count": 2,
   "metadata": {},
   "outputs": [
    {
     "name": "stdout",
     "output_type": "stream",
     "text": [
      "Unit set to \"mm\".\n"
     ]
    }
   ],
   "source": [
    "drawing_bot = DrawingBot()\n",
    "simulator = Simulator()\n",
    "compensator = ExponentialDecaySimulator()\n",
    "shape_generator = ShapeGenerator()\n",
    "image_processor = ImageProcessor()"
   ]
  },
  {
   "cell_type": "code",
   "execution_count": 3,
   "metadata": {},
   "outputs": [],
   "source": [
    "def plot_graph(data, labels, scale='linear'):\n",
    "    plt.yscale(scale)\n",
    "    for _i in range(len(data)):\n",
    "        plt.plot(data[_i], label=labels[_i])\n",
    "    plt.legend(bbox_to_anchor=(1, 1.15), ncol=3)  \n",
    "    plt.show() "
   ]
  },
  {
   "cell_type": "code",
   "execution_count": 4,
   "metadata": {},
   "outputs": [],
   "source": [
    "def get_trajectory():\n",
    "    for shape in shape_generator():\n",
    "        drawing_bot.add_shape(shape)\n",
    "    trajectory = np.array(drawing_bot._get_all_points())\n",
    "    template = drawing_bot.plot(training_mode=True, points=trajectory)\n",
    "    drawing_bot.shapes.clear()\n",
    "    return trajectory, template"
   ]
  },
  {
   "cell_type": "code",
   "execution_count": 5,
   "metadata": {},
   "outputs": [],
   "source": [
    "def get_parameters(reference_parameters):\n",
    "    pass"
   ]
  },
  {
   "cell_type": "code",
   "execution_count": 6,
   "metadata": {},
   "outputs": [],
   "source": [
    "def test_parameters(parameters, trajectory, template):\n",
    "    compensated_trajectory = compensator(trajectory, gain=parameters[0], damping=parameters[1], freq=parameters[2], non_linearity=parameters[3])\n",
    "    simulated_trajectory = simulator(compensated_trajectory)\n",
    "    drawing = drawing_bot.plot(training_mode=True, points=simulated_trajectory)\n",
    "    reward = image_processor(template, drawing, save_images=False)\n",
    "    return reward, drawing"
   ]
  },
  {
   "cell_type": "code",
   "execution_count": null,
   "metadata": {},
   "outputs": [
    {
     "ename": "",
     "evalue": "",
     "output_type": "error",
     "traceback": [
      "\u001b[1;31mThe Kernel crashed while executing code in the current cell or a previous cell. \n",
      "\u001b[1;31mPlease review the code in the cell(s) to identify a possible cause of the failure. \n",
      "\u001b[1;31mClick <a href='https://aka.ms/vscodeJupyterKernelCrash'>here</a> for more info. \n",
      "\u001b[1;31mView Jupyter <a href='command:jupyter.viewOutput'>log</a> for further details."
     ]
    }
   ],
   "source": [
    "KEEP_SETS = 2\n",
    "GENERATION_SIZE = 10\n",
    "GENERATIONS = 300\n",
    "\n",
    "SIGMA_BASE_INIT = 1.5\n",
    "SIGMA_DECAY_INIT = 0.98\n",
    "\n",
    "SIGMA_SWITCH_GENERATIION = 50\n",
    "SIGMA_BASE_SWITCH = 0.05\n",
    "SIGMA_DECAY_SWITCH = 0.999\n",
    "\n",
    "FIXED_GAIN = 1"
   ]
  },
  {
   "cell_type": "code",
   "execution_count": null,
   "metadata": {},
   "outputs": [
    {
     "name": "stdout",
     "output_type": "stream",
     "text": [
      "generation: 0\tbest_set: 7\t0.6865331990827594\tsigma: 1.5\tbest: [0.07347286 0.72048716 0.23880196 0.65105956]\n",
      "generation: 1\tbest_set: 2\t0.7112013519883698\tsigma: 1.47\tbest: [ 0.37769761  1.18602176  3.43845563 -1.61938637]\n",
      "generation: 2\tbest_set: 2\t0.7213184067467722\tsigma: 1.4405999999999999\tbest: [ 0.11003234 -0.81945995  0.1084137   0.33534666]\n",
      "generation: 3\tbest_set: 0\t0.7026849938009452\tsigma: 1.4117879999999998\tbest: [ 0.11003234 -0.81945995  0.1084137   0.33534666]\n",
      "generation: 4\tbest_set: 0\t0.68967742614641\tsigma: 1.3835522399999998\tbest: [ 0.11003234 -0.81945995  0.1084137   0.33534666]\n",
      "generation: 5\tbest_set: 0\t0.7571236081615376\tsigma: 1.3558811951999998\tbest: [ 0.11003234 -0.81945995  0.1084137   0.33534666]\n",
      "generation: 6\tbest_set: 7\t0.7052209252535009\tsigma: 1.3287635712959998\tbest: [ 0.1852941  -0.34227215 -0.28899843 -1.09450767]\n",
      "generation: 7\tbest_set: 2\t0.6534491557163566\tsigma: 1.30218829987008\tbest: [ 0.02029872  0.63170278  1.80087474 -2.9225989 ]\n",
      "generation: 8\tbest_set: 7\t0.7349005597578124\tsigma: 1.2761445338726782\tbest: [-0.15815193  0.15707336  2.93266542 -4.87613684]\n",
      "generation: 9\tbest_set: 0\t0.7506314263548981\tsigma: 1.2506216431952246\tbest: [-0.15815193  0.15707336  2.93266542 -4.87613684]\n",
      "generation: 10\tbest_set: 0\t0.6928479716936988\tsigma: 1.22560921033132\tbest: [-0.15815193  0.15707336  2.93266542 -4.87613684]\n",
      "generation: 11\tbest_set: 0\t0.7505506832129076\tsigma: 1.2010970261246938\tbest: [-0.15815193  0.15707336  2.93266542 -4.87613684]\n",
      "generation: 12\tbest_set: 3\t0.7226718246703445\tsigma: 1.1770750856021999\tbest: [-0.13528102 -0.17604443  4.08153911 -4.72009734]\n",
      "generation: 13\tbest_set: 2\t0.651085931086195\tsigma: 1.1535335838901557\tbest: [-0.12642971 -0.9388515   1.40982761 -2.74886171]\n",
      "generation: 14\tbest_set: 1\t0.7795332665122041\tsigma: 1.1304629122123526\tbest: [-0.1680563  -1.44330068  2.17109713 -2.65796662]\n",
      "generation: 15\tbest_set: 0\t0.6816792624836783\tsigma: 1.1078536539681056\tbest: [-0.1680563  -1.44330068  2.17109713 -2.65796662]\n",
      "generation: 16\tbest_set: 0\t0.7014930584507619\tsigma: 1.0856965808887433\tbest: [-0.1680563  -1.44330068  2.17109713 -2.65796662]\n",
      "generation: 17\tbest_set: 0\t0.7000067939263519\tsigma: 1.0639826492709685\tbest: [-0.1680563  -1.44330068  2.17109713 -2.65796662]\n",
      "generation: 18\tbest_set: 0\t0.7594861077941282\tsigma: 1.042702996285549\tbest: [-0.1680563  -1.44330068  2.17109713 -2.65796662]\n",
      "generation: 19\tbest_set: 5\t0.7298837189721514\tsigma: 1.021848936359838\tbest: [ 0.39451927 -2.10813492  2.79502408 -0.60126066]\n",
      "generation: 20\tbest_set: 4\t0.634673887513485\tsigma: 1.0014119576326412\tbest: [ 0.30872737 -0.35154124  1.55314764 -1.96634412]\n",
      "generation: 21\tbest_set: 6\t0.7623338102598511\tsigma: 0.9813837184799885\tbest: [ 0.02888212 -1.7556567   4.27908117  0.12098656]\n",
      "generation: 22\tbest_set: 7\t0.6414213658152059\tsigma: 0.9617560441103887\tbest: [-0.27260764 -0.87838294  2.1908908   0.03118759]\n",
      "generation: 23\tbest_set: 0\t0.7745596197518148\tsigma: 0.942520923228181\tbest: [-0.27260764 -0.87838294  2.1908908   0.03118759]\n",
      "generation: 24\tbest_set: 6\t0.7299195526824334\tsigma: 0.9236705047636173\tbest: [-0.60930489 -0.94436578  0.9106123   0.36743758]\n"
     ]
    },
    {
     "name": "stderr",
     "output_type": "stream",
     "text": [
      "/Users/leon/Documents/Dateien/Privat/Projekte/Bachelorarbeit/Project/MIRMI_2DOF_Drawing_Bot/code/api/drawing_bot_api/trajectory_optimizer/simulator.py:128: RuntimeWarning: divide by zero encountered in divide\n",
      "  oscillation = (oscillation / np.max(oscillation) + 1e-8) * -gain\n",
      "/Users/leon/Documents/Dateien/Privat/Projekte/Bachelorarbeit/Project/MIRMI_2DOF_Drawing_Bot/code/api/drawing_bot_api/trajectory_optimizer/simulator.py:128: RuntimeWarning: invalid value encountered in divide\n",
      "  oscillation = (oscillation / np.max(oscillation) + 1e-8) * -gain\n",
      "/Users/leon/Documents/Dateien/Privat/Projekte/Bachelorarbeit/Project/MIRMI_2DOF_Drawing_Bot/code/api/drawing_bot_api/trajectory_optimizer/simulator.py:88: RuntimeWarning: invalid value encountered in multiply\n",
      "  _points_y = points[:, 1:] + normals[:, 1:] * phase_offsets\n",
      "/Users/leon/Documents/Dateien/Privat/Projekte/Bachelorarbeit/Project/MIRMI_2DOF_Drawing_Bot/code/api/venv/lib/python3.12/site-packages/numpy/core/fromnumeric.py:3504: RuntimeWarning: Mean of empty slice.\n",
      "  return _methods._mean(a, axis=axis, dtype=dtype,\n",
      "/Users/leon/Documents/Dateien/Privat/Projekte/Bachelorarbeit/Project/MIRMI_2DOF_Drawing_Bot/code/api/venv/lib/python3.12/site-packages/numpy/core/_methods.py:129: RuntimeWarning: invalid value encountered in divide\n",
      "  ret = ret.dtype.type(ret / rcount)\n"
     ]
    },
    {
     "name": "stdout",
     "output_type": "stream",
     "text": [
      "generation: 25\tbest_set: 1\t0.7708095059696782\tsigma: 0.905197094668345\tbest: [0.40022908 0.10612275 2.70810648 0.91860767]\n",
      "generation: 26\tbest_set: 1\t0.7046419209950847\tsigma: 0.8870931527749781\tbest: [ 0.29141407 -0.63615825  3.18184686 -0.69053234]\n",
      "generation: 27\tbest_set: 7\t0.6722288205409341\tsigma: 0.8693512897194784\tbest: [-0.0384068   0.23459834  2.44204096 -0.16561955]\n",
      "generation: 28\tbest_set: 0\t0.6803605197201266\tsigma: 0.8519642639250888\tbest: [-0.0384068   0.23459834  2.44204096 -0.16561955]\n",
      "generation: 29\tbest_set: 2\t0.6896432763197857\tsigma: 0.8349249786465871\tbest: [-0.79865874  1.16047419  2.75954309  0.61646525]\n",
      "generation: 30\tbest_set: 2\t0.6601665269746799\tsigma: 0.8182264790736553\tbest: [-0.10445887  0.43067595  2.08689483  2.14465341]\n",
      "generation: 31\tbest_set: 6\t0.74075777568845\tsigma: 0.8018619494921821\tbest: [0.22520205 1.48432295 0.94279523 1.41959623]\n",
      "generation: 32\tbest_set: 8\t0.7146456314464127\tsigma: 0.7858247105023386\tbest: [-0.11870102  0.43372254  3.91068574  1.58489598]\n",
      "generation: 33\tbest_set: 4\t0.7400849057007226\tsigma: 0.7701082162922919\tbest: [-0.0705027  -0.27500521  4.10215487  0.94075878]\n",
      "generation: 34\tbest_set: 7\t0.7556203445826073\tsigma: 0.7547060519664459\tbest: [ 0.0837359   0.7017776   4.26825234 -0.09030368]\n",
      "generation: 35\tbest_set: 9\t0.6996829044415318\tsigma: 0.739611930927117\tbest: [ 0.12465938 -0.03103472  6.41420775 -0.41628258]\n",
      "generation: 36\tbest_set: 6\t0.6361980636688036\tsigma: 0.7248196923085747\tbest: [ 0.07840377 -0.51024339  4.39817059 -0.40090443]\n",
      "generation: 37\tbest_set: 0\t0.7136004422530247\tsigma: 0.7103232984624032\tbest: [ 0.07840377 -0.51024339  4.39817059 -0.40090443]\n",
      "generation: 38\tbest_set: 6\t0.7706256780854448\tsigma: 0.696116832493155\tbest: [-0.55664315  0.04135496  3.63614103  0.99165745]\n",
      "generation: 39\tbest_set: 5\t0.7792654109682757\tsigma: 0.682194495843292\tbest: [ 0.36488992 -0.40628469  3.428693   -0.88805442]\n",
      "generation: 40\tbest_set: 1\t0.7309233658953671\tsigma: 0.6685506059264261\tbest: [-0.10754929 -0.20076009  3.16882106 -0.08324824]\n",
      "generation: 41\tbest_set: 3\t0.6603734737245746\tsigma: 0.6551795938078975\tbest: [-0.2664397  -0.85402745  3.13594509 -0.78172584]\n",
      "generation: 42\tbest_set: 0\t0.7493173297895159\tsigma: 0.6420760019317395\tbest: [-0.2664397  -0.85402745  3.13594509 -0.78172584]\n",
      "generation: 43\tbest_set: 6\t0.7149379473158111\tsigma: 0.6292344818931048\tbest: [-0.01047545  0.6061784   4.33123246 -0.73211623]\n",
      "generation: 44\tbest_set: 8\t0.746233817291964\tsigma: 0.6166497922552427\tbest: [-0.41786128  0.09453436  1.4869976  -0.53227354]\n",
      "generation: 45\tbest_set: 5\t0.736701496776428\tsigma: 0.6043167964101378\tbest: [-0.30612593  1.00099093  2.60745202 -0.12752204]\n",
      "generation: 46\tbest_set: 1\t0.6889071492963041\tsigma: 0.5922304604819351\tbest: [-0.03625416  0.41650837  3.94392648  0.79550473]\n",
      "generation: 47\tbest_set: 0\t0.6838179341814166\tsigma: 0.5803858512722964\tbest: [-0.03625416  0.41650837  3.94392648  0.79550473]\n",
      "generation: 48\tbest_set: 7\t0.704044778940657\tsigma: 0.5687781342468503\tbest: [-0.08569986 -0.65250184  4.153728    0.42218138]\n",
      "generation: 49\tbest_set: 4\t0.7000761961950501\tsigma: 0.5574025715619134\tbest: [-1.08883102  0.10124711  3.97088211  1.05112946]\n",
      "generation: 50\tbest_set: 0\t0.7499398420416143\tsigma: 0.05\tbest: [-1.08883102  0.10124711  3.97088211  1.05112946]\n",
      "generation: 51\tbest_set: 2\t0.7069418821048445\tsigma: 0.04995\tbest: [-0.39120636 -0.17831998  3.77055665  0.41204784]\n",
      "generation: 52\tbest_set: 5\t0.6989550296844709\tsigma: 0.04990005\tbest: [-0.36638207 -0.22712383  3.7787756   0.45235287]\n"
     ]
    }
   ],
   "source": [
    "best_set = None\n",
    "parameters = np.random.random((GENERATION_SIZE, 4))\n",
    "sigma_schedule = Scheduler(SIGMA_BASE_INIT, SIGMA_DECAY_INIT)\n",
    "reward_history = []\n",
    "\n",
    "for generation_index in range(GENERATIONS):\n",
    "    signal.alarm(5)\n",
    "\n",
    "    trajectory, template = get_trajectory()\n",
    "\n",
    "    try:\n",
    "        sigma = sigma_schedule()\n",
    "\n",
    "        if generation_index % SIGMA_SWITCH_GENERATIION == SIGMA_SWITCH_GENERATIION-1:\n",
    "            sigma_schedule = Scheduler(SIGMA_BASE_SWITCH, SIGMA_DECAY_SWITCH)\n",
    "\n",
    "        rewards = []\n",
    "        drawings = []\n",
    "        for set in parameters:\n",
    "            reward, drawing = test_parameters(set, trajectory, template)\n",
    "            rewards.append(reward)\n",
    "            drawings.append(drawing)\n",
    "\n",
    "        reward_history.append(max(rewards))\n",
    "        \n",
    "        # Get indices of the three best sets\n",
    "        rewards = np.nan_to_num(rewards, nan=-np.inf)\n",
    "        best_indices = np.argsort(rewards)[-KEEP_SETS:]\n",
    "        best_sets = [parameters[i] for i in best_indices]\n",
    "        best_set = parameters[np.argmax(rewards)]\n",
    "\n",
    "        print(f'generation: {generation_index}\\tbest_set: {np.argmax(rewards)}\\t{max(rewards)}\\tsigma: {sigma}\\tbest: {best_set}')\n",
    "        \n",
    "        parameters = np.random.random((GENERATION_SIZE, 4))\n",
    "        parameters[0] = best_set\n",
    "        for i in range(1, GENERATION_SIZE):\n",
    "            parameters[i] = best_sets[i % KEEP_SETS]\n",
    "            parameters[i] += np.random.normal(0, sigma, 4)\n",
    "\n",
    "        if generation_index % 10 == 9:\n",
    "            image_processor.save_image(drawings[np.argmax(rewards)], 'evolutionary', 'generation', nr=generation_index)\n",
    "\n",
    "        plt.close('all')\n",
    "    except Exception as e:\n",
    "        if DEBUG_MODE:\n",
    "            raise\n",
    "        else:\n",
    "            print(f\"Timeout occurred: {e}\")\n",
    "\n",
    "    finally:\n",
    "        pass\n",
    "        signal.alarm(0)  # Cancel the alarm\n",
    "\n",
    "%matplotlib inline\n",
    "\n",
    "print(f'BEST SET: {best_set}')\n",
    "plot_graph([reward_history], ['reward'], scale='linear')\n",
    "\n",
    "compensated_trajectory = compensator(trajectory, gain=best_set[0], damping=best_set[1], freq=best_set[2], non_linearity=best_set[3])\n",
    "simulated_trajectory = simulator(compensated_trajectory)\n",
    "drawing = drawing_bot.plot(training_mode=True, points=simulated_trajectory, plot_in_training=True)\n"
   ]
  }
 ],
 "metadata": {
  "kernelspec": {
   "display_name": "venv",
   "language": "python",
   "name": "python3"
  },
  "language_info": {
   "codemirror_mode": {
    "name": "ipython",
    "version": 3
   },
   "file_extension": ".py",
   "mimetype": "text/x-python",
   "name": "python",
   "nbconvert_exporter": "python",
   "pygments_lexer": "ipython3",
   "version": "3.12.7"
  }
 },
 "nbformat": 4,
 "nbformat_minor": 2
}
