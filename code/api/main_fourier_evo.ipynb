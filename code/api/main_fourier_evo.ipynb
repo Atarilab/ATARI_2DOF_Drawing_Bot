{
 "cells": [
  {
   "cell_type": "code",
   "execution_count": 1,
   "metadata": {},
   "outputs": [
    {
     "name": "stderr",
     "output_type": "stream",
     "text": [
      "2025-02-02 19:43:44.103079: I tensorflow/core/platform/cpu_feature_guard.cc:210] This TensorFlow binary is optimized to use available CPU instructions in performance-critical operations.\n",
      "To enable the following instructions: AVX2 FMA, in other operations, rebuild TensorFlow with the appropriate compiler flags.\n"
     ]
    }
   ],
   "source": [
    "from drawing_bot_api.trajectory_optimizer.simulator import Simulator, ExponentialDecaySimulator\n",
    "from drawing_bot_api.trajectory_optimizer.fourier_compensator import FourierCompensator\n",
    "from drawing_bot_api.trajectory_optimizer.shape_generator import ShapeGenerator\n",
    "from drawing_bot_api.commands import DrawingBot\n",
    "from drawing_bot_api.trajectory_optimizer.image_processor import ImageProcessor\n",
    "from drawing_bot_api.trajectory_optimizer.utils import Scheduler\n",
    "from drawing_bot_api.trajectory_optimizer.config_fourier import *\n",
    "import time\n",
    "import cv2\n",
    "\n",
    "import numpy as np\n",
    "import matplotlib.pyplot as plt\n",
    "from IPython.display import clear_output\n",
    "import signal\n",
    "\n",
    "DEBUG_MODE = False\n",
    "\n",
    "%matplotlib inline\n",
    "%config InlineBackend.figure_format = 'retina'\n",
    "\n",
    "np.set_printoptions(threshold=np.inf)"
   ]
  },
  {
   "cell_type": "code",
   "execution_count": 2,
   "metadata": {},
   "outputs": [
    {
     "data": {
      "text/plain": [
       "<Handlers.SIG_DFL: 0>"
      ]
     },
     "execution_count": 2,
     "metadata": {},
     "output_type": "execute_result"
    }
   ],
   "source": [
    "class bcolors:\n",
    "    HEADER = '\\033[95m'\n",
    "    OKBLUE = '\\033[94m'\n",
    "    OKCYAN = '\\033[96m'\n",
    "    OKGREEN = '\\033[92m'\n",
    "    WARNING = '\\033[93m'\n",
    "    FAIL = '\\033[91m'\n",
    "    ENDC = '\\033[0m'\n",
    "    BOLD = '\\033[1m'\n",
    "    UNDERLINE = '\\033[4m'\n",
    "\n",
    "def timeout_handler(signum, frame):\n",
    "    raise TimeoutError(\"timeout occured\")\n",
    "\n",
    "signal.signal(signal.SIGALRM, timeout_handler)"
   ]
  },
  {
   "cell_type": "code",
   "execution_count": 3,
   "metadata": {},
   "outputs": [],
   "source": [
    "drawing_bot = DrawingBot(verbose=0)\n",
    "simulator = Simulator()\n",
    "compensator = FourierCompensator()\n",
    "shape_generator = ShapeGenerator()\n",
    "image_processor = ImageProcessor()"
   ]
  },
  {
   "cell_type": "code",
   "execution_count": 4,
   "metadata": {},
   "outputs": [],
   "source": [
    "def plot_graph(data, labels, scale='linear', axis_labels=['x', 'y']):\n",
    "    plt.yscale(scale)\n",
    "    for _i in range(len(data)):\n",
    "        plt.xlabel(axis_labels[0])\n",
    "        plt.ylabel(axis_labels[1])\n",
    "        plt.plot(data[_i], label=labels[_i])\n",
    "    if labels[0] is not None:\n",
    "        plt.legend(bbox_to_anchor=(1, 1.15), ncol=3)  \n",
    "    plt.show() \n",
    "\n",
    "def plot_bar_graph(values, catagories, axis_labels):\n",
    "    x = np.arange(len(values[0]))  # X positions\n",
    "    width = 0.4  # Bar width\n",
    "\n",
    "    # Plot bars\n",
    "    plt.bar(x - width/2, values[0], width, label=catagories[0])\n",
    "    plt.bar(x + width/2, values[1], width, label=catagories[1])\n",
    "\n",
    "    # Labels & legend\n",
    "    plt.xticks(x, x)\n",
    "    plt.xlabel(axis_labels[0])\n",
    "    plt.ylabel(axis_labels[1])\n",
    "    plt.legend()\n",
    "    plt.legend(loc='upper left', bbox_to_anchor=(0, 1.15), ncol=3)\n",
    "\n",
    "    plt.show()"
   ]
  },
  {
   "cell_type": "code",
   "execution_count": 5,
   "metadata": {},
   "outputs": [],
   "source": [
    "def get_trajectory():\n",
    "    for shape in shape_generator():\n",
    "        drawing_bot.add_shape(shape)\n",
    "    trajectory = np.array(drawing_bot._get_all_points())\n",
    "    template = drawing_bot.plot(training_mode=True, points=trajectory)\n",
    "    drawing_bot.shapes.clear()\n",
    "    return trajectory, template"
   ]
  },
  {
   "cell_type": "code",
   "execution_count": 6,
   "metadata": {},
   "outputs": [],
   "source": [
    "def get_set_of_trajectories(nr=10):\n",
    "    _trajectories = []\n",
    "    _templates = []\n",
    "    for _ in range(nr):\n",
    "        while True:\n",
    "            signal.alarm(3)\n",
    "            \n",
    "            try:\n",
    "                print(f'Generating shape {_}...')\n",
    "                clear_output(wait=True)\n",
    "                _trajectory, _template = get_trajectory()\n",
    "                _trajectories.append(_trajectory)\n",
    "                _templates.append(_template)\n",
    "                break\n",
    "            except Exception as e:\n",
    "                print(f'Timeout occured')\n",
    "            finally:\n",
    "                signal.alarm(0)\n",
    "    \n",
    "    return _trajectories, _templates"
   ]
  },
  {
   "cell_type": "code",
   "execution_count": 7,
   "metadata": {},
   "outputs": [],
   "source": [
    "def get_template_rewards(simulator, trajectories, templates):\n",
    "    _rewards = []\n",
    "    for _index in range(len(templates)):\n",
    "        if SIMULATION_MODE:\n",
    "            simulated_trajectory = simulator(trajectories[_index])\n",
    "            drawing = drawing_bot.plot(training_mode=True, points=simulated_trajectory)\n",
    "            _rewards.append(image_processor(templates[_index], drawing, save_images=False))\n",
    "        else:\n",
    "            print(f'Drawing reference drawing {_index}...')\n",
    "            drawing_bot.execute(promting=False, points=trajectories[_index])\n",
    "            _rewards.append(image_processor(templates[_index], save_images=True, save_folder='templates', crop_drawing=DRAWING_CROP, crop_template=TEMPLATE_CROP))\n",
    "            print(f'{bcolors.OKCYAN}WIPE NOW!{bcolors.ENDC}')\n",
    "            time.sleep(WIPE_TIME)\n",
    "    return _rewards"
   ]
  },
  {
   "cell_type": "code",
   "execution_count": 8,
   "metadata": {},
   "outputs": [],
   "source": [
    "def test_parameters(parameters, trajectory, template):\n",
    "    compensated_trajectory, _, _ = compensator(trajectory, type='fourier', parameters=parameters) #, tanh_scaling=[4])\n",
    "    if SIMULATION_MODE:\n",
    "        simulated_trajectory = simulator(compensated_trajectory)\n",
    "        drawing = drawing_bot.plot(training_mode=True, points=simulated_trajectory)\n",
    "        reward = image_processor(template, drawing, save_images=False)\n",
    "    else:\n",
    "        drawing_bot.execute(promting=False, points=compensated_trajectory)\n",
    "        reward, drawing, _ = image_processor(template, save_images=True, save_folder='evolutionary', return_image=True, crop_drawing=DRAWING_CROP, crop_template=TEMPLATE_CROP)\n",
    "        print(f'{bcolors.OKCYAN}WIPE NOW!{bcolors.ENDC}')\n",
    "        time.sleep(WIPE_TIME)\n",
    "    return reward, drawing"
   ]
  },
  {
   "cell_type": "code",
   "execution_count": 9,
   "metadata": {},
   "outputs": [],
   "source": [
    "def find_parameters_via_evo():\n",
    "    best_set = None\n",
    "    trajectory = None\n",
    "    template = None\n",
    "    best_set_history = []\n",
    "\n",
    "    parameters = np.random.uniform(-RANDOM_PARAM_LIMIT, RANDOM_PARAM_LIMIT, (GENERATION_SIZE, NUM_OF_PARAMETERS))\n",
    "    if INIT_SET is not None:\n",
    "        parameters[0] = INIT_SET\n",
    "        for i in range(1, GENERATION_SIZE-NEW_BRANCHES_PER_GEN):\n",
    "            parameters[i] += np.random.normal(0, SIGMA_BASE, NUM_OF_PARAMETERS)\n",
    "\n",
    "    sigma_schedule = Scheduler(SIGMA_BASE, SIGMA_DECAY)\n",
    "    reward_history = []\n",
    "    template_reward_history = []\n",
    "    averaged_reward_history = []\n",
    "    trajectories, templates = get_set_of_trajectories(NUMBER_OF_SAMPLES)\n",
    "    template_rewards = get_template_rewards(simulator, trajectories, templates)\n",
    "\n",
    "    for generation_index in range(GENERATIONS):\n",
    "        signal.alarm(200)\n",
    "\n",
    "        try:\n",
    "            sigma = sigma_schedule()\n",
    "            trajectory_index = generation_index % NUMBER_OF_SAMPLES #np.random.randint(0, NUMBER_OF_TRAJECTORIES-1)\n",
    "            trajectory = trajectories[trajectory_index]\n",
    "            template = templates[trajectory_index]\n",
    "            template_reward = template_rewards[trajectory_index]\n",
    "\n",
    "            rewards = []\n",
    "            drawings = []\n",
    "            for _set_index in range(len(parameters)):\n",
    "                print(f'Testing parameters: {np.round(parameters[_set_index], 3)}')\n",
    "                reward, drawing = test_parameters(parameters[_set_index], trajectory, template)\n",
    "                rewards.append(reward)\n",
    "                drawings.append(drawing)\n",
    "                print(f'Generation: {generation_index} \\t| Set: {_set_index}/{GENERATION_SIZE} \\t| Reward: {np.round(reward, 3)}')\n",
    "\n",
    "            reward_history.append(max(rewards))\n",
    "            template_reward_history.append(template_reward)\n",
    "            reward_delta = max(rewards) - template_reward\n",
    "            averaged_reward = np.mean(reward_history[np.max([len(reward_history)-30, 0]):])\n",
    "            averaged_reward_history.append(averaged_reward)\n",
    "            \n",
    "            # Get indices of the three best sets\n",
    "            rewards = np.nan_to_num(rewards, nan=-np.inf)\n",
    "            best_indices = np.argsort(rewards)[-KEEP_SETS:]\n",
    "            best_sets = [parameters[i] for i in best_indices]\n",
    "            best_set_history.append(parameters[np.argmax(rewards)])\n",
    "            if best_set is not None:\n",
    "                best_set = best_set + LEARNING_RATE * (parameters[np.argmax(rewards)] - best_set) * np.abs(reward_delta)\n",
    "            else:\n",
    "                best_set = parameters[np.argmax(rewards)]\n",
    "\n",
    "            print(f'{bcolors.OKCYAN}generation: {generation_index}{bcolors.ENDC}\\tbest_set: {np.round(best_set, 2)}\\t{bcolors.OKGREEN}reward: {np.round(max(rewards), 3)} / {np.round(template_reward, 3)}{bcolors.ENDC}\\tsigma: {np.round(sigma, 3)}')\n",
    "            \n",
    "            parameters = np.random.uniform(-RANDOM_PARAM_LIMIT, RANDOM_PARAM_LIMIT, (GENERATION_SIZE, NUM_OF_PARAMETERS))\n",
    "            parameters[0] = best_set\n",
    "            for i in range(1, GENERATION_SIZE-NEW_BRANCHES_PER_GEN):\n",
    "                parameters[i] = best_sets[i % KEEP_SETS]\n",
    "                parameters[i] += np.random.normal(0, sigma, NUM_OF_PARAMETERS)\n",
    "\n",
    "            if generation_index % 10 == 9:\n",
    "                pass\n",
    "                #image_processor.save_image(drawings[np.argmax(rewards)], 'evolutionary', 'generation', nr=generation_index)\n",
    "\n",
    "            plt.close('all')\n",
    "        except Exception as e:\n",
    "            if DEBUG_MODE:\n",
    "                raise\n",
    "            else:\n",
    "                print(f\"Timeout occurred: {e}\")\n",
    "\n",
    "        finally:\n",
    "            signal.alarm(0)  # Cancel the alarm\n",
    "\n",
    "    %matplotlib inline\n",
    "\n",
    "    #best_set = best_set_history[np.argmax(averaged_reward_history)]\n",
    "    print(f'BEST SET: {best_set.tolist()}')\n",
    "    reward_delta = np.array(reward_history) - np.array(template_reward_history)\n",
    "    plot_graph([reward_history, template_reward_history, reward_delta], ['reward', 'reward without compensation', 'reward delta'], scale='linear', axis_labels=['generation', 'reward'])\n",
    "    plot_graph([averaged_reward_history], ['averaged_reward'], scale='linear', axis_labels=['generation', 'reward'])\n",
    "\n",
    "    compensated_trajectory, fourier_series, point_offsets = compensator(trajectory, type='fourier', parameters=best_set)\n",
    "    if SIMULATION_MODE:\n",
    "        simulated_trajectory = simulator(compensated_trajectory)\n",
    "        simulated_template = simulator(trajectory)\n",
    "        drawing = drawing_bot.plot(training_mode=True, points=simulated_trajectory, plot_in_training=True)\n",
    "        uncompensated_drawing = drawing_bot.plot(training_mode=True, points=simulated_template, plot_in_training=True)\n",
    "    plot_graph([fourier_series], ['fourier_function'], scale='linear', axis_labels=['x', 'f(x)'])\n",
    "    plot_graph([point_offsets], ['point offset'], scale='linear', axis_labels=['x', 'f(x)'])\n",
    "\n",
    "    return best_set"
   ]
  },
  {
   "cell_type": "code",
   "execution_count": 10,
   "metadata": {},
   "outputs": [],
   "source": [
    "def evaluate_parameters(parameters):\n",
    "    trajectories, templates = get_set_of_trajectories(NUMBER_OF_EVALUATION_SAMPLES)\n",
    "    template_rewards = get_template_rewards(simulator, trajectories, templates)\n",
    "    \n",
    "    print(f'BEST PARAMETERS: {np.round(parameters, 3)}')\n",
    "\n",
    "    rewards = []\n",
    "\n",
    "    for _index in range(len(trajectories)):\n",
    "        reward, drawing = test_parameters(parameters, trajectories[_index], templates[_index])\n",
    "        rewards.append(reward)\n",
    "        image_processor.save_image(drawing, 'evolutionary', 'evaluation', nr=_index)\n",
    "\n",
    "    # plot rewards\n",
    "    plot_bar_graph([rewards, template_rewards], ['rewards', 'rewards without compensation'], axis_labels=['sample', 'reward'])\n",
    "\n",
    "    for i in range(len(trajectories)):\n",
    "        # plot fourier series\n",
    "        compensated_trajectory, fourier_series, point_offsets = compensator(trajectories[i], type='fourier', parameters=parameters)\n",
    "        simulated_trajectory = simulator(compensated_trajectory)\n",
    "        simulated_template = simulator(trajectories[i])\n",
    "        drawing = drawing_bot.plot(training_mode=True, points=simulated_trajectory, plot_in_training=True)\n",
    "        uncompensated_drawing = drawing_bot.plot(training_mode=True, points=simulated_template, plot_in_training=True)\n",
    "        plot_graph([fourier_series], ['fourier_function'], scale='linear', axis_labels=['x', 'f(x)'])\n",
    "        plot_graph([point_offsets], ['point offset'], scale='linear', axis_labels=['x', 'f(x)'])"
   ]
  },
  {
   "cell_type": "code",
   "execution_count": 11,
   "metadata": {},
   "outputs": [
    {
     "name": "stdout",
     "output_type": "stream",
     "text": [
      "Drawing reference drawing 0...\n"
     ]
    },
    {
     "name": "stderr",
     "output_type": "stream",
     "text": [
      "2025-02-02 19:43:53.560 Python[87997:2223091] WARNING: AVCaptureDeviceTypeExternal is deprecated for Continuity Cameras. Please use AVCaptureDeviceTypeContinuityCamera and add NSCameraUseContinuityCameraDeviceType to your Info.plist.\n"
     ]
    },
    {
     "name": "stdout",
     "output_type": "stream",
     "text": [
      "\u001b[96mWIPE NOW!\u001b[0m\n",
      "Drawing reference drawing 1...\n",
      "\u001b[96mWIPE NOW!\u001b[0m\n",
      "Drawing reference drawing 2...\n"
     ]
    }
   ],
   "source": [
    "best_set = find_parameters_via_evo()\n",
    "print(f'BEST SET: {best_set}')\n",
    "#evaluate_parameters(best_set)"
   ]
  }
 ],
 "metadata": {
  "kernelspec": {
   "display_name": "venv",
   "language": "python",
   "name": "python3"
  },
  "language_info": {
   "codemirror_mode": {
    "name": "ipython",
    "version": 3
   },
   "file_extension": ".py",
   "mimetype": "text/x-python",
   "name": "python",
   "nbconvert_exporter": "python",
   "pygments_lexer": "ipython3",
   "version": "3.12.7"
  }
 },
 "nbformat": 4,
 "nbformat_minor": 2
}
